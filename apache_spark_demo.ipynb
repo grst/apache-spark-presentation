{
 "cells": [
  {
   "cell_type": "code",
   "execution_count": 29,
   "metadata": {
    "collapsed": true
   },
   "outputs": [],
   "source": [
    "from pylab import * \n",
    "import seaborn as sns\n",
    "%matplotlib inline"
   ]
  },
  {
   "cell_type": "markdown",
   "metadata": {},
   "source": [
    "# Big Data Analysis with Apache Spark\n",
    "\n",
    "![](spark-logo.png)\n",
    "\n",
    "### Scope\n",
    "Use it for datasets which are so big that you can't simply load them in RStudio\n",
    "\n",
    "### Advantages:\n",
    "* distributed and scalable\n",
    "* in-memory\n",
    "* combine different sources (flatfile, json, ODBC/JDBC data source, ...)\n",
    "* interfaces from R, Python, Scala, ...\n",
    "* Use SQL or \n",
    "* write complex map-reduce tasks in the programming language of choice (-> machine learning) \n"
   ]
  },
  {
   "cell_type": "markdown",
   "metadata": {},
   "source": [
    "## 1. Setup the cluster\n",
    "see http://hpcportal.roche.com/documentation/hpc-resources/show/7224119760665747911\n",
    "\n",
    "Essentially: \n",
    "```bash\n",
    "ssh hpclogin.bas.roche.com\n",
    "ml load Spark-pREDi\n",
    "ml load Spark/2.1.0\n",
    "sbatch spark-launch.sh\n",
    "```\n",
    "\n",
    "starts a 5-node spark cluster with 1.2TB of memory. \n",
    "\n",
    "Inspect the `slurm-*.out` file to get the URL. "
   ]
  },
  {
   "cell_type": "markdown",
   "metadata": {},
   "source": [
    "## 2. Connect to the cluster from Jupyter"
   ]
  },
  {
   "cell_type": "code",
   "execution_count": 1,
   "metadata": {
    "collapsed": true
   },
   "outputs": [],
   "source": [
    "import findspark\n",
    "findspark.init(\"/pstore/apps/Spark/2.1.0/\")"
   ]
  },
  {
   "cell_type": "code",
   "execution_count": 2,
   "metadata": {
    "collapsed": true
   },
   "outputs": [],
   "source": [
    "from pyspark import SparkContext, SparkConf\n",
    "from pyspark.sql import SQLContext\n",
    "from utils import *"
   ]
  },
  {
   "cell_type": "code",
   "execution_count": 3,
   "metadata": {},
   "outputs": [
    {
     "data": {
      "text/plain": [
       "<pyspark.conf.SparkConf at 0x7fff8e1ffe80>"
      ]
     },
     "execution_count": 3,
     "metadata": {},
     "output_type": "execute_result"
    }
   ],
   "source": [
    "conf = SparkConf()\n",
    "conf.setMaster(\"spark://rkalbhpc031.cm.cluster:34739\")"
   ]
  },
  {
   "cell_type": "code",
   "execution_count": 4,
   "metadata": {},
   "outputs": [],
   "source": [
    "sc = SparkContext(conf=conf)\n",
    "sqlContext = SQLContext(sc)"
   ]
  },
  {
   "cell_type": "code",
   "execution_count": 5,
   "metadata": {},
   "outputs": [
    {
     "data": {
      "text/plain": [
       "'spark://rkalbhpc031.cm.cluster:34739'"
      ]
     },
     "execution_count": 5,
     "metadata": {},
     "output_type": "execute_result"
    }
   ],
   "source": [
    "sc.master"
   ]
  },
  {
   "cell_type": "markdown",
   "metadata": {},
   "source": [
    "## 3. Example: How does the median rank of liver genes differ between platforms? \n",
    "Input: \n",
    "* liver signature (~100 genes)\n",
    "* gene expression data from GEO (54 GB)\n",
    "* metadata from GEO (19GB)\n",
    "\n",
    "(here, we use small subsets of the data only to be able to finish the computation within seconds)"
   ]
  },
  {
   "cell_type": "markdown",
   "metadata": {},
   "source": [
    "### Get the liver genes from a `gmt` file"
   ]
  },
  {
   "cell_type": "code",
   "execution_count": 6,
   "metadata": {
    "collapsed": true
   },
   "outputs": [],
   "source": [
    "from pygenesig.file_formats import read_gmt"
   ]
  },
  {
   "cell_type": "code",
   "execution_count": 7,
   "metadata": {
    "collapsed": true
   },
   "outputs": [],
   "source": [
    "signatures = read_gmt(\"/pstore/data/bioinfo/users/zhangj83/sturmg_data_migration_201704/gtex-signatures/results/gtex_v6_solid_gini_0.8_1/signatures.gmt\")"
   ]
  },
  {
   "cell_type": "code",
   "execution_count": 8,
   "metadata": {
    "collapsed": true
   },
   "outputs": [],
   "source": [
    "genes = signatures[\"Liver\"]\n",
    "tissue = 'liver'"
   ]
  },
  {
   "cell_type": "code",
   "execution_count": 9,
   "metadata": {},
   "outputs": [
    {
     "data": {
      "text/plain": [
       "['A1BG',\n",
       " 'A1CF',\n",
       " 'AADAC',\n",
       " 'ABCB11',\n",
       " 'ABCB4',\n",
       " 'ABCC2',\n",
       " 'ABCC6P1',\n",
       " 'ABCG5',\n",
       " 'ABCG8',\n",
       " 'ACMSD']"
      ]
     },
     "execution_count": 9,
     "metadata": {},
     "output_type": "execute_result"
    }
   ],
   "source": [
    "genes[:10]"
   ]
  },
  {
   "cell_type": "markdown",
   "metadata": {},
   "source": [
    "### Load the gene expression data"
   ]
  },
  {
   "cell_type": "code",
   "execution_count": 10,
   "metadata": {},
   "outputs": [
    {
     "name": "stdout",
     "output_type": "stream",
     "text": [
      "total 100M\r\n",
      "-rw-rw---- 1 sturmg bioinfo 4.8M Apr 26 18:05 bioqc_selected_samples.tsv\r\n",
      "-rw-rw-r-- 1 sturmg bioinfo  95M Apr 26 17:16 geo_demo.tsv\r\n",
      "drwxrwx--- 2 sturmg bioinfo  32K Apr 26 17:41 geometa.parquet\r\n"
     ]
    }
   ],
   "source": [
    "!ls -lh demodata"
   ]
  },
  {
   "cell_type": "code",
   "execution_count": 11,
   "metadata": {},
   "outputs": [
    {
     "name": "stdout",
     "output_type": "stream",
     "text": [
      "GSM1001158\tA1CF\t6.53\t14263.5\r\n",
      "GSM1001158\tA2M\t5.73\t18037.5\r\n",
      "GSM1001158\tA4GALT\t3.64\t29593\r\n",
      "GSM1001158\tA4GNT\t5.1\t21455\r\n",
      "GSM1001158\tAAAS\t7.09\t11936.5\r\n",
      "GSM1001158\tAACS\t8.34\t7131.5\r\n",
      "GSM1001158\tAADAC\t13.07\t263.5\r\n",
      "GSM1001158\tAADAT\t11.11\t1390.5\r\n",
      "GSM1001158\tAAED1\t8.47\t6686\r\n",
      "GSM1001158\tAAGAB\t8.06\t8132.5\r\n"
     ]
    }
   ],
   "source": [
    "!head demodata/geo_demo.tsv"
   ]
  },
  {
   "cell_type": "code",
   "execution_count": 12,
   "metadata": {
    "collapsed": true
   },
   "outputs": [],
   "source": [
    "df_signals = sqlContext.read.format('com.databricks.spark.csv').options(\n",
    "    header='false', delimiter='\\t', nullValue='NA'\n",
    ").load(\"demodata/geo_demo.tsv\", schema=schema_signals)"
   ]
  },
  {
   "cell_type": "markdown",
   "metadata": {},
   "source": [
    "### Two ways to achieve the same thing: Using SQL..."
   ]
  },
  {
   "cell_type": "code",
   "execution_count": 13,
   "metadata": {
    "collapsed": true
   },
   "outputs": [],
   "source": [
    "df_genes = sqlContext.createDataFrame([(x,) for x in genes], ['hgnc'])"
   ]
  },
  {
   "cell_type": "code",
   "execution_count": 14,
   "metadata": {
    "collapsed": true
   },
   "outputs": [],
   "source": [
    "df_signals.createOrReplaceTempView(\"signals\")\n",
    "df_genes.createOrReplaceTempView(\"genes\")"
   ]
  },
  {
   "cell_type": "code",
   "execution_count": 15,
   "metadata": {
    "collapsed": true
   },
   "outputs": [],
   "source": [
    "df_median = sqlContext.sql(\"\"\"\n",
    "select signals.gsm\n",
    "     , percentile_approx(rk, .5) as median_rank\n",
    "from signals\n",
    "join genes\n",
    "  on genes.hgnc = signals.hgnc\n",
    "group by signals.gsm \n",
    "order by signals.gsm\n",
    "\"\"\")\n",
    "df_median.createOrReplaceTempView(\"signals_median\")"
   ]
  },
  {
   "cell_type": "code",
   "execution_count": 16,
   "metadata": {},
   "outputs": [
    {
     "name": "stdout",
     "output_type": "stream",
     "text": [
      "+----------+-----------+\n",
      "|       gsm|median_rank|\n",
      "+----------+-----------+\n",
      "|GSM1001158|     1265.0|\n",
      "|GSM1001159|     1207.0|\n",
      "|GSM1001160|     1310.5|\n",
      "|GSM1001161|     1097.5|\n",
      "|GSM1001162|     1197.0|\n",
      "|GSM1001163|     1198.0|\n",
      "|GSM1001164|     1131.0|\n",
      "|GSM1001165|     1199.5|\n",
      "|GSM1001166|     1114.5|\n",
      "|GSM1001167|     1193.0|\n",
      "+----------+-----------+\n",
      "only showing top 10 rows\n",
      "\n"
     ]
    }
   ],
   "source": [
    "df_median.show(10)"
   ]
  },
  {
   "cell_type": "markdown",
   "metadata": {},
   "source": [
    "### or using python"
   ]
  },
  {
   "cell_type": "code",
   "execution_count": 18,
   "metadata": {
    "collapsed": true
   },
   "outputs": [],
   "source": [
    "import numpy as np"
   ]
  },
  {
   "cell_type": "code",
   "execution_count": 19,
   "metadata": {},
   "outputs": [],
   "source": [
    "df_median_py = df_signals.rdd.filter(lambda row: row['hgnc'] in genes) \\\n",
    "                            .groupBy(lambda r: r['gsm']) \\\n",
    "                            .mapValues( lambda g: np.median([x['rk'] for x in g])) \\\n",
    "                            .sortByKey()"
   ]
  },
  {
   "cell_type": "code",
   "execution_count": 20,
   "metadata": {},
   "outputs": [
    {
     "data": {
      "text/plain": [
       "[('GSM1001158', 1265.0),\n",
       " ('GSM1001159', 1226.0),\n",
       " ('GSM1001160', 1310.5),\n",
       " ('GSM1001161', 1097.5),\n",
       " ('GSM1001162', 1197.0),\n",
       " ('GSM1001163', 1216.25),\n",
       " ('GSM1001164', 1139.75),\n",
       " ('GSM1001165', 1203.75),\n",
       " ('GSM1001166', 1127.25),\n",
       " ('GSM1001167', 1210.25)]"
      ]
     },
     "execution_count": 20,
     "metadata": {},
     "output_type": "execute_result"
    }
   ],
   "source": [
    "df_median_py.take(10)"
   ]
  },
  {
   "cell_type": "markdown",
   "metadata": {},
   "source": [
    "## complement this with the 'platform' information. "
   ]
  },
  {
   "cell_type": "code",
   "execution_count": 21,
   "metadata": {},
   "outputs": [
    {
     "name": "stdout",
     "output_type": "stream",
     "text": [
      "GSM\tGPL\tORGANISM\tTISSUE_ORIG\tTISSUE\tYEAR\tCOUNTRY\r\n",
      "GSM1136332\tGPL10558\tHomo sapiens\twhole blood\tblood\t2013\tUSA\r\n",
      "GSM1136428\tGPL10558\tHomo sapiens\twhole blood\tblood\t2013\tUSA\r\n",
      "GSM1136334\tGPL10558\tHomo sapiens\twhole blood\tblood\t2013\tUSA\r\n",
      "GSM1136340\tGPL10558\tHomo sapiens\twhole blood\tblood\t2013\tUSA\r\n",
      "GSM1136344\tGPL10558\tHomo sapiens\twhole blood\tblood\t2013\tUSA\r\n",
      "GSM1136617\tGPL10558\tHomo sapiens\twhole blood\tblood\t2013\tUSA\r\n",
      "GSM1136527\tGPL10558\tHomo sapiens\twhole blood\tblood\t2013\tUSA\r\n",
      "GSM1136575\tGPL10558\tHomo sapiens\twhole blood\tblood\t2013\tUSA\r\n",
      "GSM1136622\tGPL10558\tHomo sapiens\twhole blood\tblood\t2013\tUSA\r\n"
     ]
    }
   ],
   "source": [
    "!head demodata/bioqc_selected_samples.tsv"
   ]
  },
  {
   "cell_type": "code",
   "execution_count": 23,
   "metadata": {
    "collapsed": true
   },
   "outputs": [],
   "source": [
    "df_meta = sqlContext.read.format(\"com.databricks.spark.csv\").options(\n",
    "    header='true', delimiter='\\t'\n",
    ").load(\"demodata/bioqc_selected_samples.tsv\")\n",
    "df_meta.createOrReplaceTempView('meta')"
   ]
  },
  {
   "cell_type": "code",
   "execution_count": 24,
   "metadata": {},
   "outputs": [],
   "source": [
    "df_result = sqlContext.sql(\"\"\"\n",
    "select signals_median.gsm\n",
    "     , signals_median.median_rank\n",
    "     , meta.gpl\n",
    "from signals_median\n",
    "join meta\n",
    "  on meta.gsm = signals_median.gsm\n",
    "where meta.tissue = '{}'\n",
    "\"\"\".format(tissue))"
   ]
  },
  {
   "cell_type": "code",
   "execution_count": 25,
   "metadata": {},
   "outputs": [
    {
     "name": "stdout",
     "output_type": "stream",
     "text": [
      "+----------+-----------+-------+\n",
      "|       gsm|median_rank|    gpl|\n",
      "+----------+-----------+-------+\n",
      "|GSM1001158|     1265.0|GPL1261|\n",
      "|GSM1001159|     1207.0|GPL1261|\n",
      "|GSM1001160|     1310.5|GPL1261|\n",
      "|GSM1001161|     1097.5|GPL1261|\n",
      "+----------+-----------+-------+\n",
      "only showing top 4 rows\n",
      "\n"
     ]
    }
   ],
   "source": [
    "df_result.show(4)"
   ]
  },
  {
   "cell_type": "markdown",
   "metadata": {},
   "source": [
    "## Get aggregated result in Python \n",
    "Now we switch from 'big' to 'small' data. "
   ]
  },
  {
   "cell_type": "code",
   "execution_count": 26,
   "metadata": {
    "collapsed": true
   },
   "outputs": [],
   "source": [
    "res = df_result.toPandas()"
   ]
  },
  {
   "cell_type": "code",
   "execution_count": 27,
   "metadata": {},
   "outputs": [
    {
     "data": {
      "text/html": [
       "<div>\n",
       "<table border=\"1\" class=\"dataframe\">\n",
       "  <thead>\n",
       "    <tr style=\"text-align: right;\">\n",
       "      <th></th>\n",
       "      <th>gsm</th>\n",
       "      <th>median_rank</th>\n",
       "      <th>gpl</th>\n",
       "    </tr>\n",
       "  </thead>\n",
       "  <tbody>\n",
       "    <tr>\n",
       "      <th>0</th>\n",
       "      <td>GSM1001158</td>\n",
       "      <td>1265.0</td>\n",
       "      <td>GPL1261</td>\n",
       "    </tr>\n",
       "    <tr>\n",
       "      <th>1</th>\n",
       "      <td>GSM1001159</td>\n",
       "      <td>1207.0</td>\n",
       "      <td>GPL1261</td>\n",
       "    </tr>\n",
       "    <tr>\n",
       "      <th>2</th>\n",
       "      <td>GSM1001160</td>\n",
       "      <td>1310.5</td>\n",
       "      <td>GPL1261</td>\n",
       "    </tr>\n",
       "    <tr>\n",
       "      <th>3</th>\n",
       "      <td>GSM1001161</td>\n",
       "      <td>1097.5</td>\n",
       "      <td>GPL1261</td>\n",
       "    </tr>\n",
       "    <tr>\n",
       "      <th>4</th>\n",
       "      <td>GSM1001162</td>\n",
       "      <td>1197.0</td>\n",
       "      <td>GPL1261</td>\n",
       "    </tr>\n",
       "  </tbody>\n",
       "</table>\n",
       "</div>"
      ],
      "text/plain": [
       "          gsm  median_rank      gpl\n",
       "0  GSM1001158       1265.0  GPL1261\n",
       "1  GSM1001159       1207.0  GPL1261\n",
       "2  GSM1001160       1310.5  GPL1261\n",
       "3  GSM1001161       1097.5  GPL1261\n",
       "4  GSM1001162       1197.0  GPL1261"
      ]
     },
     "execution_count": 27,
     "metadata": {},
     "output_type": "execute_result"
    }
   ],
   "source": [
    "res.head()"
   ]
  },
  {
   "cell_type": "code",
   "execution_count": 30,
   "metadata": {},
   "outputs": [
    {
     "data": {
      "image/png": "[encoded data removed]",
      "text/plain": [
       "<matplotlib.figure.Figure at 0x7fff7e4996a0>"
      ]
     },
     "metadata": {},
     "output_type": "display_data"
    }
   ],
   "source": [
    "fig, ax = subplots(figsize=(15, 5))\n",
    "sns.boxplot(data=res, x='gpl', y='median_rank', ax=ax)\n",
    "ax.set_xticklabels(ax.get_xticklabels(), rotation='vertical');"
   ]
  },
  {
   "cell_type": "markdown",
   "metadata": {
    "collapsed": true
   },
   "source": [
    "## Using all data\n",
    "(not performed here due to time reasons)\n",
    "![](result_all_platforms.png)"
   ]
  },
  {
   "cell_type": "code",
   "execution_count": null,
   "metadata": {
    "collapsed": true
   },
   "outputs": [],
   "source": []
  }
 ],
 "metadata": {
  "anaconda-cloud": {},
  "kernelspec": {
   "display_name": "Python [Root]",
   "language": "python",
   "name": "Python [Root]"
  },
  "language_info": {
   "codemirror_mode": {
    "name": "ipython",
    "version": 3
   },
   "file_extension": ".py",
   "mimetype": "text/x-python",
   "name": "python",
   "nbconvert_exporter": "python",
   "pygments_lexer": "ipython3",
   "version": "3.5.2"
  }
 },
 "nbformat": 4,
 "nbformat_minor": 2
}
