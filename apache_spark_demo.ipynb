{
 "cells": [
  {
   "cell_type": "code",
   "execution_count": 1,
   "metadata": {},
   "outputs": [],
   "source": [
    "from pylab import * \n",
    "import seaborn as sns\n",
    "%matplotlib inline"
   ]
  },
  {
   "cell_type": "markdown",
   "metadata": {},
   "source": [
    "# Big Data Analysis with Apache Spark\n",
    "\n",
    "![](spark-logo.png)\n",
    "\n",
    "Advantages:\n",
    "* distributed, in-memory\n",
    "* (almost) arbitrary sources (flatfile, json, ODBC/JDBC data source, ...)\n",
    "* use from python/R/Java/...\n",
    "* Use SQL or write complex map-reduce tasks in the programming language of choice (-> machine learning) \n"
   ]
  },
  {
   "cell_type": "markdown",
   "metadata": {},
   "source": [
    "## 1. Setup the cluster\n",
    "see http://hpcportal.roche.com/documentation/hpc-resources/show/7224119760665747911\n",
    "\n",
    "Essentially: \n",
    "```bash\n",
    "ssh hpclogin.bas.roche.com\n",
    "ml load Spark-pREDi\n",
    "ml load Spark/2.1.0\n",
    "sbatch spark-launch.sh\n",
    "```\n",
    "\n",
    "starts a 5-node spark cluster with 1.2TB of memory. \n",
    "\n",
    "Inspect the `slurm-*.out` file to get the URL. "
   ]
  },
  {
   "cell_type": "markdown",
   "metadata": {},
   "source": [
    "## 2. Access the cluster from Jupyter"
   ]
  },
  {
   "cell_type": "code",
   "execution_count": 2,
   "metadata": {
    "collapsed": true
   },
   "outputs": [],
   "source": [
    "import findspark\n",
    "findspark.init(\"/pstore/apps/Spark/2.1.0/\")"
   ]
  },
  {
   "cell_type": "code",
   "execution_count": 3,
   "metadata": {},
   "outputs": [],
   "source": [
    "from pyspark import SparkContext, SparkConf\n",
    "from pyspark.sql import SQLContext\n",
    "from utils import *"
   ]
  },
  {
   "cell_type": "code",
   "execution_count": 4,
   "metadata": {},
   "outputs": [
    {
     "data": {
      "text/plain": [
       "<pyspark.conf.SparkConf at 0x7fffb2c7d2b0>"
      ]
     },
     "execution_count": 4,
     "metadata": {},
     "output_type": "execute_result"
    }
   ],
   "source": [
    "conf = SparkConf()\n",
    "conf.setMaster(\"spark://rkalbhpc024.cm.cluster:45425\")"
   ]
  },
  {
   "cell_type": "code",
   "execution_count": 5,
   "metadata": {},
   "outputs": [],
   "source": [
    "sc = SparkContext(conf=conf)\n",
    "sqlContext = SQLContext(sc)"
   ]
  },
  {
   "cell_type": "code",
   "execution_count": 6,
   "metadata": {},
   "outputs": [
    {
     "data": {
      "text/plain": [
       "'spark://rkalbhpc024.cm.cluster:45425'"
      ]
     },
     "execution_count": 6,
     "metadata": {},
     "output_type": "execute_result"
    }
   ],
   "source": [
    "sc.master"
   ]
  },
  {
   "cell_type": "markdown",
   "metadata": {},
   "source": [
    "## 3. Example: How does the median rank of liver genes differ between platforms? \n",
    "Input: \n",
    "* liver signature (~100 genes)\n",
    "* gene expression data from GEO (54 GB)\n",
    "* metadata from GEO (19GB)"
   ]
  },
  {
   "cell_type": "markdown",
   "metadata": {},
   "source": [
    "### Get the liver genes from a `gmt` file"
   ]
  },
  {
   "cell_type": "code",
   "execution_count": 7,
   "metadata": {
    "collapsed": true
   },
   "outputs": [],
   "source": [
    "from pygenesig.file_formats import read_gmt"
   ]
  },
  {
   "cell_type": "code",
   "execution_count": 8,
   "metadata": {},
   "outputs": [],
   "source": [
    "signatures = read_gmt(\"/pstore/data/bioinfo/users/zhangj83/sturmg_data_migration_201704/gtex-signatures/results/gtex_v6_solid_gini_0.8_1/signatures.gmt\")"
   ]
  },
  {
   "cell_type": "code",
   "execution_count": 9,
   "metadata": {},
   "outputs": [],
   "source": [
    "genes = signatures[\"Liver\"]\n",
    "tissue = 'liver'"
   ]
  },
  {
   "cell_type": "markdown",
   "metadata": {},
   "source": [
    "### Load the gene expression data"
   ]
  },
  {
   "cell_type": "code",
   "execution_count": 10,
   "metadata": {},
   "outputs": [
    {
     "name": "stdout",
     "output_type": "stream",
     "text": [
      "total 100M\r\n",
      "-rw-rw---- 1 sturmg bioinfo 4.8M Apr 26 18:05 bioqc_selected_samples.tsv\r\n",
      "-rw-rw-r-- 1 sturmg bioinfo  95M Apr 26 17:16 geo_demo.tsv\r\n",
      "drwxrwx--- 2 sturmg bioinfo  32K Apr 26 17:41 geometa.parquet\r\n"
     ]
    }
   ],
   "source": [
    "!ls -lh demodata"
   ]
  },
  {
   "cell_type": "code",
   "execution_count": 11,
   "metadata": {},
   "outputs": [
    {
     "name": "stdout",
     "output_type": "stream",
     "text": [
      "GSM1001158\tA1CF\t6.53\t14263.5\r\n",
      "GSM1001158\tA2M\t5.73\t18037.5\r\n",
      "GSM1001158\tA4GALT\t3.64\t29593\r\n",
      "GSM1001158\tA4GNT\t5.1\t21455\r\n",
      "GSM1001158\tAAAS\t7.09\t11936.5\r\n",
      "GSM1001158\tAACS\t8.34\t7131.5\r\n",
      "GSM1001158\tAADAC\t13.07\t263.5\r\n",
      "GSM1001158\tAADAT\t11.11\t1390.5\r\n",
      "GSM1001158\tAAED1\t8.47\t6686\r\n",
      "GSM1001158\tAAGAB\t8.06\t8132.5\r\n"
     ]
    }
   ],
   "source": [
    "!head demodata/geo_demo.tsv"
   ]
  },
  {
   "cell_type": "code",
   "execution_count": 12,
   "metadata": {
    "collapsed": true
   },
   "outputs": [],
   "source": [
    "df_signals = sqlContext.read.format('com.databricks.spark.csv').options(\n",
    "    header='false', delimiter='\\t', nullValue='NA'\n",
    ").load(\"demodata/geo_demo.tsv\", schema=schema_signals)"
   ]
  },
  {
   "cell_type": "markdown",
   "metadata": {},
   "source": [
    "### Two ways to achieve the same thing: Using SQL..."
   ]
  },
  {
   "cell_type": "code",
   "execution_count": 14,
   "metadata": {},
   "outputs": [],
   "source": [
    "df_genes = sqlContext.createDataFrame([(x,) for x in genes], ['hgnc'])"
   ]
  },
  {
   "cell_type": "code",
   "execution_count": 15,
   "metadata": {
    "collapsed": true
   },
   "outputs": [],
   "source": [
    "df_signals.createOrReplaceTempView(\"signals\")\n",
    "df_genes.createOrReplaceTempView(\"genes\")"
   ]
  },
  {
   "cell_type": "code",
   "execution_count": 17,
   "metadata": {},
   "outputs": [],
   "source": [
    "df_median = sqlContext.sql(\"\"\"\n",
    "select signals.gsm\n",
    "     , percentile_approx(rk, .5) as median_expression\n",
    "from signals\n",
    "join genes\n",
    "  on genes.hgnc = signals.hgnc\n",
    "group by signals.gsm \n",
    "order by signals.gsm\n",
    "\"\"\")\n",
    "df_median.createOrReplaceTempView(\"liver\")"
   ]
  },
  {
   "cell_type": "code",
   "execution_count": 18,
   "metadata": {},
   "outputs": [
    {
     "name": "stdout",
     "output_type": "stream",
     "text": [
      "+----------+-----------------+\n",
      "|       gsm|median_expression|\n",
      "+----------+-----------------+\n",
      "|GSM1001158|           1265.0|\n",
      "|GSM1001159|           1207.0|\n",
      "|GSM1001160|           1310.5|\n",
      "|GSM1001161|           1097.5|\n",
      "|GSM1001162|           1197.0|\n",
      "|GSM1001163|           1198.0|\n",
      "|GSM1001164|           1131.0|\n",
      "|GSM1001165|           1199.5|\n",
      "|GSM1001166|           1114.5|\n",
      "|GSM1001167|           1193.0|\n",
      "+----------+-----------------+\n",
      "only showing top 10 rows\n",
      "\n"
     ]
    }
   ],
   "source": [
    "df_median.show(10)"
   ]
  },
  {
   "cell_type": "markdown",
   "metadata": {},
   "source": [
    "### or using python"
   ]
  },
  {
   "cell_type": "code",
   "execution_count": 19,
   "metadata": {
    "collapsed": true
   },
   "outputs": [],
   "source": [
    "import numpy as np"
   ]
  },
  {
   "cell_type": "code",
   "execution_count": 20,
   "metadata": {},
   "outputs": [],
   "source": [
    "df_median_py = df_signals.rdd.filter(lambda row: row['hgnc'] in genes) \\\n",
    "                            .groupBy(lambda r: r['gsm']) \\\n",
    "                            .mapValues( lambda g: np.median([x['rk'] for x in g])) \\\n",
    "                            .sortByKey()"
   ]
  },
  {
   "cell_type": "code",
   "execution_count": 22,
   "metadata": {},
   "outputs": [
    {
     "data": {
      "text/plain": [
       "[('GSM1001158', 1265.0),\n",
       " ('GSM1001159', 1226.0),\n",
       " ('GSM1001160', 1310.5),\n",
       " ('GSM1001161', 1097.5),\n",
       " ('GSM1001162', 1197.0),\n",
       " ('GSM1001163', 1216.25),\n",
       " ('GSM1001164', 1139.75),\n",
       " ('GSM1001165', 1203.75),\n",
       " ('GSM1001166', 1127.25),\n",
       " ('GSM1001167', 1210.25)]"
      ]
     },
     "execution_count": 22,
     "metadata": {},
     "output_type": "execute_result"
    }
   ],
   "source": [
    "df_median_py.take(10)"
   ]
  },
  {
   "cell_type": "markdown",
   "metadata": {},
   "source": [
    "## complement this with the 'tissue' information. "
   ]
  },
  {
   "cell_type": "code",
   "execution_count": 23,
   "metadata": {},
   "outputs": [],
   "source": [
    "df_meta = sqlContext.read.format(\"com.databricks.spark.csv\").options(\n",
    "    header='true', delimiter='\\t'\n",
    ").load(\"demodata/bioqc_selected_samples.tsv\")\n",
    "df_meta.createOrReplaceTempView('meta')"
   ]
  },
  {
   "cell_type": "code",
   "execution_count": 24,
   "metadata": {},
   "outputs": [],
   "source": [
    "df_result = sqlContext.sql(\"\"\"\n",
    "select signals.gsm\n",
    "     , meta.gpl\n",
    "     , percentile_approx(rk, .5) as median_rank\n",
    "from signals\n",
    "join genes\n",
    "  on genes.hgnc = signals.hgnc\n",
    "join meta\n",
    "  on meta.gsm = signals.gsm\n",
    "where meta.tissue = '{}'\n",
    "group by signals.gsm, meta.gpl\n",
    "\"\"\".format(tissue))\n",
    "df_result.createOrReplaceTempView(\"result\")"
   ]
  },
  {
   "cell_type": "code",
   "execution_count": 25,
   "metadata": {},
   "outputs": [
    {
     "name": "stdout",
     "output_type": "stream",
     "text": [
      "+----------+-------+-----------+\n",
      "|       gsm|    gpl|median_rank|\n",
      "+----------+-------+-----------+\n",
      "|GSM1001303|GPL8321|      957.0|\n",
      "|GSM1001161|GPL1261|     1097.5|\n",
      "|GSM1001158|GPL1261|     1265.0|\n",
      "|GSM1001165|GPL1261|     1199.5|\n",
      "+----------+-------+-----------+\n",
      "only showing top 4 rows\n",
      "\n"
     ]
    }
   ],
   "source": [
    "df_result.show(4)"
   ]
  },
  {
   "cell_type": "markdown",
   "metadata": {},
   "source": [
    "## Get aggregated result in Python \n",
    "Now we switch from 'big' to 'small' data. "
   ]
  },
  {
   "cell_type": "code",
   "execution_count": 27,
   "metadata": {},
   "outputs": [],
   "source": [
    "res = df_result.toPandas()"
   ]
  },
  {
   "cell_type": "code",
   "execution_count": 28,
   "metadata": {},
   "outputs": [
    {
     "data": {
      "text/html": [
       "<div>\n",
       "<table border=\"1\" class=\"dataframe\">\n",
       "  <thead>\n",
       "    <tr style=\"text-align: right;\">\n",
       "      <th></th>\n",
       "      <th>gsm</th>\n",
       "      <th>gpl</th>\n",
       "      <th>median_rank</th>\n",
       "    </tr>\n",
       "  </thead>\n",
       "  <tbody>\n",
       "    <tr>\n",
       "      <th>0</th>\n",
       "      <td>GSM1001303</td>\n",
       "      <td>GPL8321</td>\n",
       "      <td>957.0</td>\n",
       "    </tr>\n",
       "    <tr>\n",
       "      <th>1</th>\n",
       "      <td>GSM1001161</td>\n",
       "      <td>GPL1261</td>\n",
       "      <td>1097.5</td>\n",
       "    </tr>\n",
       "    <tr>\n",
       "      <th>2</th>\n",
       "      <td>GSM1001158</td>\n",
       "      <td>GPL1261</td>\n",
       "      <td>1265.0</td>\n",
       "    </tr>\n",
       "    <tr>\n",
       "      <th>3</th>\n",
       "      <td>GSM1001165</td>\n",
       "      <td>GPL1261</td>\n",
       "      <td>1199.5</td>\n",
       "    </tr>\n",
       "    <tr>\n",
       "      <th>4</th>\n",
       "      <td>GSM1001307</td>\n",
       "      <td>GPL8321</td>\n",
       "      <td>843.0</td>\n",
       "    </tr>\n",
       "  </tbody>\n",
       "</table>\n",
       "</div>"
      ],
      "text/plain": [
       "          gsm      gpl  median_rank\n",
       "0  GSM1001303  GPL8321        957.0\n",
       "1  GSM1001161  GPL1261       1097.5\n",
       "2  GSM1001158  GPL1261       1265.0\n",
       "3  GSM1001165  GPL1261       1199.5\n",
       "4  GSM1001307  GPL8321        843.0"
      ]
     },
     "execution_count": 28,
     "metadata": {},
     "output_type": "execute_result"
    }
   ],
   "source": [
    "res.head()"
   ]
  },
  {
   "cell_type": "code",
   "execution_count": 31,
   "metadata": {},
   "outputs": [
    {
     "data": {
      "image/png": "[encoded data removed]",
      "text/plain": [
       "<matplotlib.figure.Figure at 0x7fffae31d0f0>"
      ]
     },
     "metadata": {},
     "output_type": "display_data"
    }
   ],
   "source": [
    "fig, ax = subplots(figsize=(15, 5))\n",
    "sns.boxplot(data=res, x='gpl', y='median_rank', ax=ax)\n",
    "ax.set_xticklabels(ax.get_xticklabels(), rotation='vertical');"
   ]
  },
  {
   "cell_type": "code",
   "execution_count": null,
   "metadata": {
    "collapsed": true
   },
   "outputs": [],
   "source": []
  }
 ],
 "metadata": {
  "anaconda-cloud": {},
  "kernelspec": {
   "display_name": "Python [Root]",
   "language": "python",
   "name": "Python [Root]"
  },
  "language_info": {
   "codemirror_mode": {
    "name": "ipython",
    "version": 3
   },
   "file_extension": ".py",
   "mimetype": "text/x-python",
   "name": "python",
   "nbconvert_exporter": "python",
   "pygments_lexer": "ipython3",
   "version": "3.5.2"
  }
 },
 "nbformat": 4,
 "nbformat_minor": 2
}
